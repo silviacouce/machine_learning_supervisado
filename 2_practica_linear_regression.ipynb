{
 "cells": [
  {
   "cell_type": "code",
   "execution_count": null,
   "id": "666fc509",
   "metadata": {},
   "outputs": [],
   "source": [
    "import numpy as np\n",
    "import matplotlib.pyplot as plt"
   ]
  },
  {
   "cell_type": "markdown",
   "id": "cf35064c",
   "metadata": {},
   "source": [
    "# Introducción\n",
    "\n",
    "En esta práctica vamos a trabajar con un dataset sintético. Vamos a implementar una regresión lineal de dos maneras distintas:\n",
    "\n",
    "1. Implementando el descenso del gradiente a mano.\n",
    "2. Usando la librería `scikit-learn`.\n",
    "\n",
    "Finalmente, vamos a comparar los resultados."
   ]
  },
  {
   "cell_type": "markdown",
   "id": "3093c433",
   "metadata": {},
   "source": [
    "# Generación del dataset\n",
    "\n",
    "Generamos un dataset sintético, que consta de dos atributos y de un target. Para ello:\n",
    "\n",
    "- Especificamos el número de ejemplos del dataset a crear.\n",
    "- Creamos valores aleatorios para ambos atributos, siguiendo una distribución normal\n",
    "- Creamos los valore del target, tomando valores a lo largo de una recta a la que introducimos ruido."
   ]
  },
  {
   "cell_type": "code",
   "execution_count": null,
   "id": "521e360d",
   "metadata": {},
   "outputs": [],
   "source": [
    "#Fijamos seed para controlar la aleatoriedad.\n",
    "np.random.seed(42)\n",
    "\n",
    "N = 200\n",
    "\n",
    "# Dos variables explicativas\n",
    "x1 = np.random.uniform(-3, 3, N)\n",
    "x2 = np.random.uniform(-3, 3, N)\n",
    "\n",
    "# Parámetros verdaderos\n",
    "w1_true = 2.0\n",
    "w2_true = -1.5\n",
    "b_true = 4.0\n",
    "\n",
    "# Generar respuesta con algo de ruido\n",
    "noise = np.random.normal(0, 1, N)\n",
    "y = w1_true * x1 + w2_true * x2 + b_true + noise"
   ]
  },
  {
   "cell_type": "code",
   "execution_count": null,
   "id": "0ec555e4",
   "metadata": {},
   "outputs": [],
   "source": [
    "## VISUALIZA LOS DATOS\n",
    "# Usa un eje para cada uno de los atributos\n",
    "# Utiliza una escala de color para representar el target."
   ]
  },
  {
   "cell_type": "markdown",
   "id": "eb582a86",
   "metadata": {},
   "source": [
    "# 1. Implementación manual"
   ]
  },
  {
   "cell_type": "markdown",
   "id": "6dd50f06",
   "metadata": {},
   "source": [
    "Comenzamos inicializando los parámetros $w_1$, $w_2$ y $b$, y los hiperparámetros para el descenso del gradiente: la tasa de aprendizaje y el número de epochs."
   ]
  },
  {
   "cell_type": "code",
   "execution_count": null,
   "id": "28d217a6",
   "metadata": {},
   "outputs": [],
   "source": [
    "# Inicialización de parámetros\n",
    "\n",
    "w1 = 0.0\n",
    "w2 = 0.0\n",
    "b = 0.0\n",
    "# learning rate\n",
    "eta = 0.01         \n",
    "epochs = 1000"
   ]
  },
  {
   "cell_type": "markdown",
   "id": "96366a82",
   "metadata": {},
   "source": [
    "Implementación del descenso del gradiente iterando sobre el número de epochs. Utilizaremos la media del error cuadrático (MSE) en lugar del error cuadrático. ¿Cómo sería la fórmula? En cada epoch:\n",
    "\n",
    "- Calcula la predicción para los valores de los parámetros dados.\n",
    "- Calcula y almacena el error.\n",
    "- Pon al día los tres parámetros"
   ]
  },
  {
   "cell_type": "code",
   "execution_count": null,
   "id": "5953de81",
   "metadata": {},
   "outputs": [],
   "source": [
    "# Para almacenar la pérdida (SE)\n",
    "loss_history = []\n",
    "\n",
    "for epoch in range(epochs):\n",
    "    # Predicciones\n",
    "    #y_pred = \n",
    "    \n",
    "    # Cálculo del error\n",
    "    #error =\n",
    "    \n",
    "    # Calcular pérdida (SE)\n",
    "    #loss = np.mean(error ** 2)\n",
    "    #loss_history.append(loss)\n",
    "\n",
    "    # Derivadas parciales (gradientes)\n",
    "    #dw1 = \n",
    "    #dw2 = \n",
    "    #db  = \n",
    "    \n",
    "    # Actualización de parámetros\n",
    "    #w1\n",
    "    #w2 \n",
    "    # b"
   ]
  },
  {
   "cell_type": "markdown",
   "id": "3847519d",
   "metadata": {},
   "source": [
    "¿Qué valores de los parámetros has encontrado? ¿Cuál es el valor de la función de coste?"
   ]
  },
  {
   "cell_type": "code",
   "execution_count": null,
   "id": "c850fed3",
   "metadata": {},
   "outputs": [],
   "source": [
    "print(\"Parámetros aprendidos (GD):\")\n",
    "print(f\"w1 = {w1:.3f}, w2 = {w2:.3f}, b = {b:.3f}\")"
   ]
  },
  {
   "cell_type": "markdown",
   "id": "30729131",
   "metadata": {},
   "source": [
    "Usando los datos almacenados en el apartado anterior, crea una gráfica con el valor de la función de coste en función de los epochs."
   ]
  },
  {
   "cell_type": "code",
   "execution_count": null,
   "id": "c4224156",
   "metadata": {},
   "outputs": [],
   "source": [
    "# Crea la gráfica aquí"
   ]
  },
  {
   "cell_type": "markdown",
   "id": "51b16440",
   "metadata": {},
   "source": [
    "¿Cómo queda esta gráfica si modificas la tasa de aprendizaje o la inicialización de los parámetros?"
   ]
  },
  {
   "cell_type": "markdown",
   "id": "1b694bee",
   "metadata": {},
   "source": [
    "# 2. Implementación con `scikit-learn`"
   ]
  },
  {
   "cell_type": "markdown",
   "id": "a21c8142",
   "metadata": {},
   "source": [
    "Repetimos el mismo cálculo usando la implementación de regresión lineal de `scikit-learn`. "
   ]
  },
  {
   "cell_type": "code",
   "execution_count": null,
   "id": "7c6ecee9",
   "metadata": {},
   "outputs": [],
   "source": [
    "from sklearn.linear_model import LinearRegression\n",
    "from sklearn.metrics import mean_squared_error"
   ]
  },
  {
   "cell_type": "markdown",
   "id": "216389b0",
   "metadata": {},
   "source": [
    "Consulta la documentación para comprender la sintaxis."
   ]
  },
  {
   "cell_type": "code",
   "execution_count": null,
   "id": "6eec78c2",
   "metadata": {},
   "outputs": [],
   "source": [
    "# Expresa los atributos en forma matricial usando numpy\n",
    "#X = \n",
    "\n",
    "# Instancia el modelo\n",
    "\n",
    "# Ajusta el modelo\n",
    "\n",
    "# Realiza predicciones sobre el conjunto de entrenamiento"
   ]
  },
  {
   "cell_type": "markdown",
   "id": "f076779b",
   "metadata": {},
   "source": [
    "¿Qué parámetros has obtenido? Consulta la documentación para averiguar cómo extraer estos valores."
   ]
  },
  {
   "cell_type": "code",
   "execution_count": 9,
   "id": "b7cd99dc",
   "metadata": {},
   "outputs": [],
   "source": [
    "# Imprime aquí los parámetros que has obtenido."
   ]
  },
  {
   "cell_type": "markdown",
   "id": "ea14fd8c",
   "metadata": {},
   "source": [
    "# 3. Comparación de los resultados\n",
    "\n",
    "¿Difieren mucho los valores de los parámetros que has encontrado?"
   ]
  },
  {
   "cell_type": "markdown",
   "id": "f6d25b43",
   "metadata": {},
   "source": [
    "Realiza una gráfica que muestre en el eje $x$ el valor real y en el otro el valor predicho manualmente."
   ]
  },
  {
   "cell_type": "code",
   "execution_count": 10,
   "id": "60b1e17f",
   "metadata": {},
   "outputs": [],
   "source": [
    "# Muestra la gráfica aquí"
   ]
  },
  {
   "cell_type": "markdown",
   "id": "0541220f",
   "metadata": {},
   "source": [
    "Realiza una gráfica que muestre en el eje $x$ el valor real y en el otro el valor predicho por `scikit-learn`."
   ]
  },
  {
   "cell_type": "code",
   "execution_count": 11,
   "id": "fd2c7d03",
   "metadata": {},
   "outputs": [],
   "source": [
    "# Muestra la gráfica aquí"
   ]
  },
  {
   "cell_type": "markdown",
   "id": "1496e671",
   "metadata": {},
   "source": [
    "Calcula el error obtenido en ambos casos (MSE)."
   ]
  },
  {
   "cell_type": "code",
   "execution_count": 12,
   "id": "de20e5f0",
   "metadata": {},
   "outputs": [],
   "source": [
    "# Mostrar MSE final de ambos modelos"
   ]
  }
 ],
 "metadata": {
  "kernelspec": {
   "display_name": "Python (mlmaster)",
   "language": "python",
   "name": "mlmaster"
  },
  "language_info": {
   "codemirror_mode": {
    "name": "ipython",
    "version": 3
   },
   "file_extension": ".py",
   "mimetype": "text/x-python",
   "name": "python",
   "nbconvert_exporter": "python",
   "pygments_lexer": "ipython3",
   "version": "3.13.7"
  }
 },
 "nbformat": 4,
 "nbformat_minor": 5
}
